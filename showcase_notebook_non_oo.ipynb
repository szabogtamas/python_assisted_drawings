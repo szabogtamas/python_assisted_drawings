{
 "cells": [
  {
   "cell_type": "markdown",
   "id": "d1f9995b",
   "metadata": {},
   "source": [
    "# An example plan\n",
    "\n",
    "## Dependencies"
   ]
  },
  {
   "cell_type": "code",
   "execution_count": 1,
   "id": "8719c508",
   "metadata": {},
   "outputs": [],
   "source": [
    "from matplotlib import pylab as plt\n",
    "from matplotlib.patches import Rectangle, Circle, Polygon"
   ]
  },
  {
   "cell_type": "markdown",
   "id": "f4dfc569",
   "metadata": {},
   "source": [
    "## Object definitions"
   ]
  },
  {
   "cell_type": "code",
   "execution_count": 2,
   "id": "eba32e9b",
   "metadata": {},
   "outputs": [],
   "source": [
    "def draw_rectangle(x, y, w, h):\n",
    "    r = Rectangle((x, y), w, h, fill=False)\n",
    "    return r\n",
    "\n",
    "def draw_circle(x, y, r):\n",
    "    r = Circle((x, y), r, fill=False)\n",
    "    return r"
   ]
  },
  {
   "cell_type": "code",
   "execution_count": 3,
   "id": "f0a3db0f",
   "metadata": {},
   "outputs": [],
   "source": [
    "def draw_balcony(x, y):\n",
    "    dps = [\n",
    "        (0, 0),\n",
    "        (0, 5),\n",
    "        (6, 5),\n",
    "        (6, 0),\n",
    "        (2.8, 0),\n",
    "        (2.8, 0.9),\n",
    "        (1.3, 0.9),\n",
    "        (1.3, 0)\n",
    "    ]\n",
    "    r = Polygon([(dx+x, dy+y) for dx, dy in dps], fill=False)\n",
    "    return r"
   ]
  },
  {
   "cell_type": "markdown",
   "id": "e35545f8",
   "metadata": {},
   "source": [
    "## Dimensions and locations"
   ]
  },
  {
   "cell_type": "code",
   "execution_count": 4,
   "id": "1683612e",
   "metadata": {},
   "outputs": [],
   "source": [
    "object_collection = dict(\n",
    "    telek = [draw_rectangle, 0, 0, 12, 36],\n",
    "    haz = [draw_rectangle, 0, 0, 6, 12],\n",
    "    terasz = [draw_balcony, 0, 0],\n",
    "    fa = [draw_circle, 0, 0, 2]\n",
    ")"
   ]
  },
  {
   "cell_type": "code",
   "execution_count": 5,
   "id": "0219ece8",
   "metadata": {},
   "outputs": [],
   "source": [
    "object_locations = dict(\n",
    "    telek = (0, 0),\n",
    "    haz = (1, 20),\n",
    "    terasz = (1, 15),\n",
    "    fa = (6, 8)\n",
    ")"
   ]
  },
  {
   "cell_type": "markdown",
   "id": "7d9a4a7b",
   "metadata": {},
   "source": [
    "## Draw plan"
   ]
  },
  {
   "cell_type": "code",
   "execution_count": 6,
   "id": "e8e76e46",
   "metadata": {},
   "outputs": [],
   "source": [
    "for k, v in object_locations.items():\n",
    "    object_collection[k][1:3] = v"
   ]
  },
  {
   "cell_type": "code",
   "execution_count": 7,
   "id": "861eae85",
   "metadata": {},
   "outputs": [
    {
     "data": {
      "image/png": "[encoded data removed]",
      "text/plain": [
       "<Figure size 144x432 with 1 Axes>"
      ]
     },
     "metadata": {
      "needs_background": "light"
     },
     "output_type": "display_data"
    }
   ],
   "source": [
    "fig, ax = plt.subplots(figsize=(2, 6))\n",
    "\n",
    "ax.set_aspect(\"equal\", adjustable=\"datalim\")\n",
    "ax.axis('off')\n",
    "ax.plot([0, 12],[0, 0], color=\"white\")\n",
    "\n",
    "for k, v in object_collection.items():\n",
    "    ax.add_patch(v[0](*v[1:]))"
   ]
  },
  {
   "cell_type": "code",
   "execution_count": 8,
   "id": "5c153786",
   "metadata": {},
   "outputs": [],
   "source": [
    "fig.savefig(\"plan_example.pdf\")"
   ]
  }
 ],
 "metadata": {
  "jupytext": {
   "formats": "md,ipynb",
   "text_representation": {
    "extension": ".md",
    "format_name": "markdown",
    "format_version": "1.3",
    "jupytext_version": "1.13.0"
   }
  },
  "kernelspec": {
   "display_name": "Python 3 (ipykernel)",
   "language": "python",
   "name": "python3"
  },
  "language_info": {
   "codemirror_mode": {
    "name": "ipython",
    "version": 3
   },
   "file_extension": ".py",
   "mimetype": "text/x-python",
   "name": "python",
   "nbconvert_exporter": "python",
   "pygments_lexer": "ipython3",
   "version": "3.8.10"
  }
 },
 "nbformat": 4,
 "nbformat_minor": 5
}
