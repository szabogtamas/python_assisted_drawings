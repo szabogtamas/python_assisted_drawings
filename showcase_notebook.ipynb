{
 "cells": [
  {
   "cell_type": "markdown",
   "id": "7edd42b2",
   "metadata": {},
   "source": [
    "# An example plan\n",
    "\n",
    "## Dependencies"
   ]
  },
  {
   "cell_type": "code",
   "execution_count": 1,
   "id": "59b006e2",
   "metadata": {},
   "outputs": [],
   "source": [
    "from matplotlib import pylab as plt\n",
    "from matplotlib import patches as mpl_patches"
   ]
  },
  {
   "cell_type": "markdown",
   "id": "c56fe7be",
   "metadata": {},
   "source": [
    "## Define artist objects"
   ]
  },
  {
   "cell_type": "code",
   "execution_count": 2,
   "id": "430b3d58-6852-4b1e-ab8d-9de341bd9bc6",
   "metadata": {},
   "outputs": [],
   "source": [
    "class Rectangle:\n",
    "# A very most basic artist, a rectangle that will also be building block of other objects\n",
    "\n",
    "    def __init__(self, width, height, color=\"k\", ls=\"-\", fill=False):\n",
    "        self.x = 0\n",
    "        self.y = 0\n",
    "        self.w = width\n",
    "        self.h = height\n",
    "        self.color = color\n",
    "        self.ls = ls\n",
    "        self.fill = fill\n",
    "    \n",
    "    def update_positions(self, x, y):\n",
    "        self.x = x\n",
    "        self.y = y\n",
    "        \n",
    "\n",
    "    def initialize_geometry(self):\n",
    "        p = mpl_patches.Rectangle(\n",
    "            (self.x, self.y), self.w, self.h,\n",
    "            color=self.color, ls=self.ls, fill=self.fill\n",
    "        )\n",
    "        return p\n",
    "\n",
    "    def draw(self, ax):\n",
    "        ax.add_patch(self.initialize_geometry())\n",
    "        return ax"
   ]
  },
  {
   "cell_type": "markdown",
   "id": "c6d5e5b1",
   "metadata": {},
   "source": [
    "## Dimensions and locations"
   ]
  },
  {
   "cell_type": "code",
   "execution_count": 3,
   "id": "79c286c4",
   "metadata": {},
   "outputs": [],
   "source": [
    "object_collection = dict(\n",
    "    telek = Rectangle(12, 36),\n",
    "    haz = Rectangle(6, 12)\n",
    ")"
   ]
  },
  {
   "cell_type": "code",
   "execution_count": 4,
   "id": "706e44df",
   "metadata": {},
   "outputs": [],
   "source": [
    "object_locations = dict(\n",
    "    telek = (0, 0),\n",
    "    haz = (1, 20)\n",
    ")"
   ]
  },
  {
   "cell_type": "markdown",
   "id": "b983e5c2",
   "metadata": {},
   "source": [
    "## Draw plan"
   ]
  },
  {
   "cell_type": "code",
   "execution_count": 5,
   "id": "fc91aa9f",
   "metadata": {},
   "outputs": [
    {
     "name": "stdout",
     "output_type": "stream",
     "text": [
      "0 0 hi\n",
      "1 20 hi\n"
     ]
    }
   ],
   "source": [
    "for k, v in object_locations.items():\n",
    "    object_collection[k].update_positions(*v)"
   ]
  },
  {
   "cell_type": "code",
   "execution_count": 6,
   "id": "3c851842",
   "metadata": {},
   "outputs": [
    {
     "data": {
      "image/png": "[encoded data removed]",
      "text/plain": [
       "<Figure size 144x432 with 1 Axes>"
      ]
     },
     "metadata": {
      "needs_background": "light"
     },
     "output_type": "display_data"
    }
   ],
   "source": [
    "fig, ax = plt.subplots(figsize=(2, 6))\n",
    "\n",
    "ax.set_aspect(\"equal\", adjustable=\"datalim\")\n",
    "ax.axis('off')\n",
    "ax.plot([0, 12],[-0.1, -0.1], color=\"white\")\n",
    "\n",
    "for k, v in object_collection.items():\n",
    "    v.draw(ax)"
   ]
  },
  {
   "cell_type": "code",
   "execution_count": null,
   "id": "361bf000-3f9d-4bb7-bd95-e0f48c0aa4b0",
   "metadata": {},
   "outputs": [],
   "source": [
    "fig.savefig(\"plan_example.pdf\")"
   ]
  }
 ],
 "metadata": {
  "jupytext": {
   "formats": "md,ipynb",
   "text_representation": {
    "extension": ".md",
    "format_name": "markdown",
    "format_version": "1.3",
    "jupytext_version": "1.13.0"
   }
  },
  "kernelspec": {
   "display_name": "Python 3 (ipykernel)",
   "language": "python",
   "name": "python3"
  },
  "language_info": {
   "codemirror_mode": {
    "name": "ipython",
    "version": 3
   },
   "file_extension": ".py",
   "mimetype": "text/x-python",
   "name": "python",
   "nbconvert_exporter": "python",
   "pygments_lexer": "ipython3",
   "version": "3.8.10"
  }
 },
 "nbformat": 4,
 "nbformat_minor": 5
}
