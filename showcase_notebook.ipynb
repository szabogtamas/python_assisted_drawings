{
 "cells": [
  {
   "cell_type": "markdown",
   "id": "7edd42b2",
   "metadata": {},
   "source": [
    "# An example plan\n",
    "\n",
    "## Dependencies"
   ]
  },
  {
   "cell_type": "code",
   "execution_count": 1,
   "id": "59b006e2",
   "metadata": {},
   "outputs": [],
   "source": [
    "from matplotlib import pylab as plt\n",
    "from matplotlib import patches as mpl_patches\n",
    "from matplotlib import cm"
   ]
  },
  {
   "cell_type": "code",
   "execution_count": 4,
   "id": "546efef9-8edf-4cf5-89f8-c145444d6157",
   "metadata": {},
   "outputs": [
    {
     "name": "stdout",
     "output_type": "stream",
     "text": [
      "Collecting shapely\n",
      "  Downloading Shapely-1.8.2-cp38-cp38-manylinux_2_12_x86_64.manylinux2010_x86_64.whl (2.1 MB)\n",
      "\u001b[K     |████████████████████████████████| 2.1 MB 3.0 MB/s eta 0:00:01\n",
      "\u001b[?25hCollecting pysolar\n",
      "  Downloading pysolar-0.10-py3-none-any.whl (47 kB)\n",
      "\u001b[K     |████████████████████████████████| 47 kB 5.0 MB/s  eta 0:00:01\n",
      "\u001b[?25hInstalling collected packages: shapely, pysolar\n",
      "Successfully installed pysolar-0.10 shapely-1.8.2\n"
     ]
    }
   ],
   "source": [
    "!pip3 install shapely pysolar"
   ]
  },
  {
   "cell_type": "code",
   "execution_count": 5,
   "id": "8abd5dce",
   "metadata": {},
   "outputs": [],
   "source": [
    "import numpy as np\n",
    "import math\n",
    "import datetime\n",
    "from shapely import geometry as sg\n",
    "from pysolar import solar"
   ]
  },
  {
   "cell_type": "code",
   "execution_count": 14,
   "id": "da98f64f",
   "metadata": {},
   "outputs": [
    {
     "name": "stdout",
     "output_type": "stream",
     "text": [
      "The autoreload extension is already loaded. To reload it, use:\n",
      "  %reload_ext autoreload\n"
     ]
    }
   ],
   "source": [
    "import sys\n",
    "\n",
    "sys.path.append(\"src\")  # developmental hack, to load the local version of the module\n",
    "%load_ext autoreload\n",
    "%autoreload 2\n",
    "\n",
    "import pad_draw as dr"
   ]
  },
  {
   "cell_type": "markdown",
   "id": "c6d5e5b1",
   "metadata": {},
   "source": [
    "## Dimensions and locations"
   ]
  },
  {
   "cell_type": "code",
   "execution_count": 15,
   "id": "79c286c4",
   "metadata": {},
   "outputs": [],
   "source": [
    "object_collection = dict(\n",
    "    telek = dr.Polygon([(0, 0), (14, 5), (14, 39), (0, 39)]),\n",
    "    haz = dr.Rectangle(6, 12),\n",
    "    fenyo = dr.Circle(2),\n",
    "    mandula = dr.Circle(1),\n",
    "    terasz = dr.CustomPlatform()\n",
    ")"
   ]
  },
  {
   "cell_type": "code",
   "execution_count": 16,
   "id": "706e44df",
   "metadata": {},
   "outputs": [],
   "source": [
    "object_locations = dict(\n",
    "    telek = (0, 0),\n",
    "    haz = (1, 24),\n",
    "    fenyo = (4, 38),\n",
    "    mandula = (6, 12),\n",
    "    terasz = (1, 19)\n",
    ")"
   ]
  },
  {
   "cell_type": "markdown",
   "id": "b983e5c2",
   "metadata": {},
   "source": [
    "## Draw plan"
   ]
  },
  {
   "cell_type": "code",
   "execution_count": 17,
   "id": "fc91aa9f",
   "metadata": {},
   "outputs": [],
   "source": [
    "for k, v in object_locations.items():\n",
    "    object_collection[k].update_positions(*v)"
   ]
  },
  {
   "cell_type": "code",
   "execution_count": 19,
   "id": "3c851842",
   "metadata": {},
   "outputs": [
    {
     "data": {
      "image/png": "[encoded data removed]",
      "text/plain": [
       "<Figure size 144x432 with 1 Axes>"
      ]
     },
     "metadata": {
      "needs_background": "light"
     },
     "output_type": "display_data"
    }
   ],
   "source": [
    "fig, ax = plt.subplots(figsize=(2, 6))\n",
    "\n",
    "ax.set_aspect(\"equal\", adjustable=\"datalim\")\n",
    "ax.axis('off')\n",
    "ax.plot([0, 12],[-0.5, -0.5], color=\"white\")\n",
    "\n",
    "for k, v in object_collection.items():\n",
    "    v.draw(ax)"
   ]
  },
  {
   "cell_type": "code",
   "execution_count": 20,
   "id": "361bf000-3f9d-4bb7-bd95-e0f48c0aa4b0",
   "metadata": {},
   "outputs": [],
   "source": [
    "fig.savefig(\"plan_example.pdf\")"
   ]
  }
 ],
 "metadata": {
  "jupytext": {
   "formats": "md,ipynb"
  },
  "kernelspec": {
   "display_name": "Python 3 (ipykernel)",
   "language": "python",
   "name": "python3"
  },
  "language_info": {
   "codemirror_mode": {
    "name": "ipython",
    "version": 3
   },
   "file_extension": ".py",
   "mimetype": "text/x-python",
   "name": "python",
   "nbconvert_exporter": "python",
   "pygments_lexer": "ipython3",
   "version": "3.8.10"
  }
 },
 "nbformat": 4,
 "nbformat_minor": 5
}
