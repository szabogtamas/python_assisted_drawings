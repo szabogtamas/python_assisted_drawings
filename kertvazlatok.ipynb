{
 "cells": [
  {
   "cell_type": "markdown",
   "id": "f784626f",
   "metadata": {},
   "source": [
    "# An example plan\n",
    "\n",
    "## Dependencies"
   ]
  },
  {
   "cell_type": "code",
   "execution_count": 1,
   "id": "619e4f71",
   "metadata": {},
   "outputs": [],
   "source": [
    "from matplotlib import pylab as plt\n",
    "from matplotlib import patches as mpl_patches\n",
    "from matplotlib import cm"
   ]
  },
  {
   "cell_type": "code",
   "execution_count": 2,
   "id": "4d527943-5f43-4501-b9b3-33f358ff381b",
   "metadata": {},
   "outputs": [
    {
     "name": "stdout",
     "output_type": "stream",
     "text": [
      "Collecting pysolar\n",
      "  Downloading pysolar-0.10-py3-none-any.whl (47 kB)\n",
      "\u001b[K     |████████████████████████████████| 47 kB 1.3 MB/s eta 0:00:011\n",
      "\u001b[?25hInstalling collected packages: pysolar\n",
      "Successfully installed pysolar-0.10\n"
     ]
    }
   ],
   "source": [
    "!pip3 install pysolar"
   ]
  },
  {
   "cell_type": "code",
   "execution_count": 3,
   "id": "9a7f39b1-44bf-455c-a4b4-6b4285206344",
   "metadata": {},
   "outputs": [],
   "source": [
    "from pysolar import solar\n",
    "import datetime\n",
    "import math\n",
    "import numpy as np"
   ]
  },
  {
   "cell_type": "code",
   "execution_count": 4,
   "id": "9f4cf2ef-03f0-425c-a82b-23be2b9c8afa",
   "metadata": {},
   "outputs": [],
   "source": [
    "site_location = [47.5249739, 18.7679596]\n",
    "time_of_interest = datetime.datetime(2022, 4, 1, 8, 0, tzinfo=datetime.timezone.utc)"
   ]
  },
  {
   "cell_type": "code",
   "execution_count": 5,
   "id": "0e36ef47-5364-4fe5-8a80-0dda0bbd7f6f",
   "metadata": {},
   "outputs": [
    {
     "data": {
      "text/plain": [
       "33.906604560586686"
      ]
     },
     "execution_count": 5,
     "metadata": {},
     "output_type": "execute_result"
    }
   ],
   "source": [
    "SUN_ALT = solar.get_altitude(site_location[0], site_location[1], time_of_interest)\n",
    "SUN_ALT"
   ]
  },
  {
   "cell_type": "code",
   "execution_count": 6,
   "id": "c70d3f9a-5df7-4635-be01-2ef32965bd8c",
   "metadata": {},
   "outputs": [
    {
     "name": "stdout",
     "output_type": "stream",
     "text": [
      "15.373967781765947\n",
      "25.074292572563493\n",
      "33.906604560586686\n",
      "41.145958291762156\n",
      "45.83618476632536\n",
      "47.04641627755568\n",
      "44.480423235750756\n",
      "38.739677813196785\n",
      "30.824094723729317\n",
      "21.613541203103082\n",
      "11.754434523081006\n",
      "1.8819448762421631\n",
      "-8.348123335792396\n",
      "-17.68518103729883\n",
      "-25.944611756433503\n"
     ]
    }
   ],
   "source": [
    "for tt in range(6, 21):\n",
    "    a = solar.get_altitude(site_location[0], site_location[1], datetime.datetime(2022, 4, 1, tt, 0, tzinfo=datetime.timezone.utc))\n",
    "    print(a)"
   ]
  },
  {
   "cell_type": "code",
   "execution_count": 7,
   "id": "4cb8a9f3-28e5-47b5-bc16-9201a4a81eca",
   "metadata": {},
   "outputs": [
    {
     "data": {
      "text/plain": [
       "126.23981614645456"
      ]
     },
     "execution_count": 7,
     "metadata": {},
     "output_type": "execute_result"
    }
   ],
   "source": [
    "SUN_AZY = solar.get_azimuth(site_location[0], site_location[1], time_of_interest)\n",
    "SUN_AZY"
   ]
  },
  {
   "cell_type": "code",
   "execution_count": 8,
   "id": "7ea6dcfa-388c-4a43-b9ee-dcb512c577be",
   "metadata": {},
   "outputs": [
    {
     "name": "stdout",
     "output_type": "stream",
     "text": [
      "100.22337246807474\n",
      "112.35231972435706\n",
      "126.23981614645456\n",
      "142.7836747632499\n",
      "162.4164405107819\n",
      "184.1107466518796\n",
      "205.29192373836975\n",
      "223.81411707155814\n",
      "239.29623462224424\n",
      "252.44106840056145\n",
      "264.16099683897767\n",
      "275.2724786109129\n",
      "286.49111122160986\n",
      "298.4928616350066\n",
      "311.93790544194803\n"
     ]
    }
   ],
   "source": [
    "for tt in range(6, 21):\n",
    "    az = solar.get_azimuth(site_location[0], site_location[1], datetime.datetime(2022, 4, 1, tt, 0, tzinfo=datetime.timezone.utc))\n",
    "    print(az)"
   ]
  },
  {
   "cell_type": "code",
   "execution_count": 9,
   "id": "6d7c20fb-68b4-466d-992b-c577a13a9d99",
   "metadata": {},
   "outputs": [
    {
     "data": {
      "text/plain": [
       "2.9755730111612073"
      ]
     },
     "execution_count": 9,
     "metadata": {},
     "output_type": "execute_result"
    }
   ],
   "source": [
    "2/math.tan(math.radians(SUN_ALT))"
   ]
  },
  {
   "cell_type": "code",
   "execution_count": 10,
   "id": "be6578a0-5d4d-4361-8eda-e8152f9d4559",
   "metadata": {},
   "outputs": [
    {
     "name": "stdout",
     "output_type": "stream",
     "text": [
      "11.430052302761343\n",
      "5.671281819617709\n",
      "3.7320508075688776\n",
      "2.7474774194546225\n",
      "2.1445069205095586\n",
      "1.7320508075688774\n",
      "1.4281480067421146\n"
     ]
    }
   ],
   "source": [
    "for h in range(5, 40, 5):\n",
    "    print(1/math.tan(math.radians(h)))"
   ]
  },
  {
   "cell_type": "code",
   "execution_count": 11,
   "id": "578f524d-3830-4e4e-9184-6ea40bbd2fb6",
   "metadata": {},
   "outputs": [],
   "source": [
    "SUN_ROT = -45"
   ]
  },
  {
   "cell_type": "markdown",
   "id": "c63f63f7",
   "metadata": {},
   "source": [
    "## Define artist objects"
   ]
  },
  {
   "cell_type": "code",
   "execution_count": 12,
   "id": "9c263b13-f7a9-4ff6-91a3-7d6a7225e6c5",
   "metadata": {},
   "outputs": [
    {
     "data": {
      "text/plain": [
       "True"
      ]
     },
     "execution_count": 12,
     "metadata": {},
     "output_type": "execute_result"
    }
   ],
   "source": [
    "'time_of_interest' in globals()"
   ]
  },
  {
   "cell_type": "code",
   "execution_count": 13,
   "id": "c5d9c777",
   "metadata": {},
   "outputs": [],
   "source": [
    "class Rectangle:\n",
    "# A most basic artist, a rectangle that will also be building block of other objects   \n",
    "\n",
    "    def __init__(\n",
    "        self, width, height, angle=0, color=\"k\", ls=\"-\", lw=0.1,\n",
    "        fill=False, alpha=1, z=2, sun_h=None, sun_a=None, sun_r=None,\n",
    "        shadow_color=\"#D3D3D3\", shadow_only=False\n",
    "    ):\n",
    "        self.x = 0\n",
    "        self.y = 0\n",
    "        self.z = z\n",
    "        self.w = width\n",
    "        self.h = height\n",
    "        self.angle = angle\n",
    "        self.color = color\n",
    "        self.ls = ls\n",
    "        self.lw = lw\n",
    "        self.fill = fill\n",
    "        self.alpha = alpha\n",
    "        self.shadow_color = shadow_color\n",
    "        self.shadow_only = shadow_only\n",
    "        if sun_h is None:\n",
    "            if 'SUN_ALT' in globals():\n",
    "                self.sun_h = SUN_ALT\n",
    "            else:\n",
    "                self.sun_h = 20\n",
    "        else:\n",
    "            self.sun_h = sun_h\n",
    "        self.sun_tn = self.z/math.tan(math.radians(SUN_ALT))\n",
    "        if sun_r is None:\n",
    "            if 'SUN_ROT' in globals():\n",
    "                self.sun_r = SUN_ROT\n",
    "            else:\n",
    "                self.sun_r = 20\n",
    "        else:\n",
    "            self.sun_r = sun_r\n",
    "        if sun_a is None:\n",
    "            if 'SUN_AZY' in globals():\n",
    "                self.sun_a = SUN_AZY + self.sun_r\n",
    "            else:\n",
    "                self.sun_a = 20\n",
    "        else:\n",
    "            self.sun_a = sun_a\n",
    "    \n",
    "    def update_positions(self, x, y):\n",
    "        self.x = x\n",
    "        self.y = y\n",
    "    \n",
    "    def rotate_edge(self, points, origin, angle):\n",
    "        points = complex(*points)\n",
    "        origin = complex(*origin)\n",
    "        angle = np.deg2rad(angle)\n",
    "        r = (points - origin) * np.exp(complex(0, angle)) + origin\n",
    "        return (r.real, r.imag)\n",
    "    \n",
    "    def initialize_geometry(self):\n",
    "        p = mpl_patches.Rectangle(\n",
    "            (self.x, self.y), self.w, self.h, angle=self.angle, color=self.color,\n",
    "            ls=self.ls, lw=self.lw, fill=self.fill, alpha = self.alpha\n",
    "        )\n",
    "        return p\n",
    "\n",
    "    def initialize_shadow(self):\n",
    "        p1 = mpl_patches.Polygon(\n",
    "            [\n",
    "                (self.x, self.y+self.h),\n",
    "                (self.x+self.w, self.y+self.h),\n",
    "                self.rotate_edge((self.x+self.w, self.y+self.h+self.sun_tn), (self.x+self.w, self.y+self.h), self.sun_a),\n",
    "                self.rotate_edge((self.x, self.y+self.h+self.sun_tn), (self.x, self.y+self.h), self.sun_a)\n",
    "            ],\n",
    "            color=self.shadow_color, fill=True, alpha=0.1\n",
    "        )\n",
    "        p2 = mpl_patches.Polygon(\n",
    "            [\n",
    "                (self.x+self.w, self.y+self.h),\n",
    "                (self.x+self.w, self.y),\n",
    "                self.rotate_edge((self.x+self.w, self.y+self.sun_tn), (self.x+self.w, self.y), self.sun_a),\n",
    "                self.rotate_edge((self.x+self.w, self.y+self.h+self.sun_tn), (self.x+self.w, self.y+self.h), self.sun_a)\n",
    "            ],\n",
    "            color=self.shadow_color, fill=True, alpha=0.1\n",
    "        )\n",
    "        p3 = mpl_patches.Polygon(\n",
    "            [\n",
    "                (self.x+self.w, self.y),\n",
    "                (self.x, self.y),\n",
    "                self.rotate_edge((self.x, self.y+self.sun_tn), (self.x, self.y), self.sun_a),\n",
    "                self.rotate_edge((self.x+self.w, self.y+self.sun_tn), (self.x+self.w, self.y), self.sun_a)\n",
    "            ],\n",
    "            color=self.shadow_color, fill=True, alpha=0.1\n",
    "        )\n",
    "        p4 = mpl_patches.Polygon(\n",
    "            [\n",
    "                (self.x, self.y+self.h),\n",
    "                (self.x, self.y),\n",
    "                self.rotate_edge((self.x, self.y+self.sun_tn), (self.x, self.y), self.sun_a),\n",
    "                self.rotate_edge((self.x, self.y+self.h+self.sun_tn), (self.x, self.y+self.h), self.sun_a)\n",
    "            ],\n",
    "            color=self.shadow_color, fill=True, alpha=0.1\n",
    "        )\n",
    "        return p1, p2, p3, p4\n",
    "\n",
    "    def draw(self, ax):\n",
    "        ax.add_patch(self.initialize_geometry())\n",
    "        return ax\n",
    "\n",
    "    def draw_shadowed(self, ax):\n",
    "        for p in self.initialize_shadow():\n",
    "            ax.add_patch(p)\n",
    "        if not self.shadow_only:\n",
    "            ax.add_patch(self.initialize_geometry())\n",
    "        return ax\n",
    "\n",
    "# Consider using something like https://lerner.co.il/2014/01/03/making-init-methods-magical-with-autoinit/ later"
   ]
  },
  {
   "cell_type": "code",
   "execution_count": 14,
   "id": "25da4820-24cc-4146-b26a-a9c9e9106d77",
   "metadata": {},
   "outputs": [
    {
     "data": {
      "text/plain": [
       "<AxesSubplot:>"
      ]
     },
     "execution_count": 14,
     "metadata": {},
     "output_type": "execute_result"
    },
    {
     "data": {
      "image/png": "[encoded data removed]",
      "text/plain": [
       "<Figure size 144x432 with 1 Axes>"
      ]
     },
     "metadata": {
      "needs_background": "light"
     },
     "output_type": "display_data"
    }
   ],
   "source": [
    "haz = Rectangle(6, 12)\n",
    "\n",
    "fig, ax = plt.subplots(figsize=(2, 6))\n",
    "\n",
    "ax.set_aspect(\"equal\", adjustable=\"datalim\")\n",
    "ax.axis('off')\n",
    "ax.plot([0, 12],[-0.5, -0.5], color=\"white\")\n",
    "\n",
    "haz.draw_shadowed(ax)"
   ]
  },
  {
   "cell_type": "code",
   "execution_count": 15,
   "id": "dec9a37f-0fa5-48dc-96e2-05cf0aef048a",
   "metadata": {},
   "outputs": [
    {
     "data": {
      "image/png": "[encoded data removed]",
      "text/plain": [
       "<Figure size 144x432 with 1 Axes>"
      ]
     },
     "metadata": {
      "needs_background": "light"
     },
     "output_type": "display_data"
    }
   ],
   "source": [
    "fig, ax = plt.subplots(figsize=(2, 6))\n",
    "\n",
    "ax.set_aspect(\"equal\", adjustable=\"datalim\")\n",
    "ax.axis('off')\n",
    "ax.plot([0, 12],[-0.5, -0.5], color=\"white\")\n",
    "\n",
    "for tt in range(5, 13):\n",
    "    a = solar.get_altitude(site_location[0], site_location[1], datetime.datetime(2022, 1, 1, tt, 0, tzinfo=datetime.timezone.utc))\n",
    "    az = solar.get_azimuth(site_location[0], site_location[1], datetime.datetime(2022, 1, 1, tt, 0, tzinfo=datetime.timezone.utc))\n",
    "    Rectangle(6, 12, sun_h=a, sun_a=az+45).draw_shadowed(ax)"
   ]
  },
  {
   "cell_type": "code",
   "execution_count": 16,
   "id": "fbf23788-2bf8-4bda-8417-f7b608c8127c",
   "metadata": {},
   "outputs": [
    {
     "data": {
      "image/png": "[encoded data removed]",
      "text/plain": [
       "<Figure size 144x432 with 1 Axes>"
      ]
     },
     "metadata": {
      "needs_background": "light"
     },
     "output_type": "display_data"
    }
   ],
   "source": [
    "fig, ax = plt.subplots(figsize=(2, 6))\n",
    "\n",
    "ax.set_aspect(\"equal\", adjustable=\"datalim\")\n",
    "ax.axis('off')\n",
    "ax.plot([0, 12],[-0.5, -0.5], color=\"white\")\n",
    "\n",
    "for tt in range(11, 19):\n",
    "    a = solar.get_altitude(site_location[0], site_location[1], datetime.datetime(2022, 4, 1, tt, 0, tzinfo=datetime.timezone.utc))\n",
    "    az = solar.get_azimuth(site_location[0], site_location[1], datetime.datetime(2022, 4, 1, tt, 0, tzinfo=datetime.timezone.utc))\n",
    "    Rectangle(6, 12, sun_h=a, sun_a=az+30).draw_shadowed(ax)"
   ]
  },
  {
   "cell_type": "code",
   "execution_count": 17,
   "id": "3d87a584",
   "metadata": {},
   "outputs": [],
   "source": [
    "class Ellipse(Rectangle):\n",
    "# A primitive artist, an empty ellipse \n",
    "\n",
    "    def initialize_geometry(self):\n",
    "        p = mpl_patches.Ellipse(\n",
    "            (self.x, self.y), self.w, self.h, angle=self.angle, color=self.color,\n",
    "            lw=self.lw, ls=self.ls, fill=self.fill, alpha = self.alpha\n",
    "        )\n",
    "        return p"
   ]
  },
  {
   "cell_type": "code",
   "execution_count": 18,
   "id": "616468b3",
   "metadata": {},
   "outputs": [],
   "source": [
    "class Circle(Rectangle):\n",
    "# A primitive artist, an empty circle\n",
    "\n",
    "    def __init__(\n",
    "        self, r, angle=0, color=\"k\", ls=\"-\", lw=0.1,\n",
    "        fill=False, alpha=1, z=2, sun_h=None, sun_a=None, sun_r=None,\n",
    "        shadow_color=\"#D3D3D3\", shadow_only=False\n",
    "    ):\n",
    "        self.x = 0\n",
    "        self.y = 0\n",
    "        self.z = z\n",
    "        self.r = r\n",
    "        self.color = color\n",
    "        self.ls = ls\n",
    "        self.lw = lw\n",
    "        self.fill = fill\n",
    "        self.shadow_color = shadow_color\n",
    "        self.shadow_only = shadow_only\n",
    "        if sun_h is None:\n",
    "            if 'SUN_ALT' in globals():\n",
    "                self.sun_h = SUN_ALT\n",
    "            else:\n",
    "                self.sun_h = 20\n",
    "        else:\n",
    "            self.sun_h = sun_h\n",
    "        self.sun_tn = self.z/math.tan(math.radians(SUN_ALT))\n",
    "        if sun_r is None:\n",
    "            if 'SUN_ROT' in globals():\n",
    "                self.sun_r = SUN_ROT\n",
    "            else:\n",
    "                self.sun_r = 20\n",
    "        else:\n",
    "            self.sun_r = sun_r\n",
    "        if sun_a is None:\n",
    "            if 'SUN_AZY' in globals():\n",
    "                self.sun_a = SUN_AZY + self.sun_r\n",
    "            else:\n",
    "                self.sun_a = 20\n",
    "        else:\n",
    "            self.sun_a = sun_a      \n",
    "\n",
    "    def initialize_geometry(self):\n",
    "        p = mpl_patches.Circle(\n",
    "            (self.x, self.y), self.r,\n",
    "            color=self.color, ls=self.ls, fill=self.fill, lw=self.lw\n",
    "        )\n",
    "        return p\n",
    "\n",
    "    def initialize_shadow(self):\n",
    "        p1 = mpl_patches.Polygon(\n",
    "            [\n",
    "                (self.x-self.r, self.y+self.r),\n",
    "                (self.x+self.r, self.y+self.r),\n",
    "                self.rotate_edge((self.x+self.r, self.y+self.r+self.sun_tn), (self.x+self.r, self.y+self.r), self.sun_a),\n",
    "                self.rotate_edge((self.x-self.r, self.y+self.r+self.sun_tn), (self.x-self.r, self.y+self.r), self.sun_a)\n",
    "            ],\n",
    "            color=self.shadow_color, fill=True, alpha=0.1\n",
    "        )\n",
    "        p2 = mpl_patches.Polygon(\n",
    "            [\n",
    "                (self.x+self.r, self.y+self.r),\n",
    "                (self.x+self.r, self.y-self.r),\n",
    "                self.rotate_edge((self.x+self.r, self.y+self.sun_tn-self.r), (self.x+self.r, self.y-self.r), self.sun_a),\n",
    "                self.rotate_edge((self.x+self.r, self.y+self.r+self.sun_tn), (self.x+self.r, self.y+self.r), self.sun_a)\n",
    "            ],\n",
    "            color=self.shadow_color, fill=True, alpha=0.1\n",
    "        )\n",
    "        p3 = mpl_patches.Polygon(\n",
    "            [\n",
    "                (self.x+self.r, self.y-self.r),\n",
    "                (self.x-self.r, self.y-self.r),\n",
    "                self.rotate_edge((self.x-self.r, self.y+self.sun_tn-self.r), (self.x-self.r, self.y-self.r), self.sun_a),\n",
    "                self.rotate_edge((self.x+self.r, self.y+self.sun_tn-self.r), (self.x+self.r, self.y-self.r), self.sun_a)\n",
    "            ],\n",
    "            color=self.shadow_color, fill=True, alpha=0.1\n",
    "        )\n",
    "        p4 = mpl_patches.Polygon(\n",
    "            [\n",
    "                (self.x-self.r, self.y+self.r),\n",
    "                (self.x-self.r, self.y-self.r),\n",
    "                self.rotate_edge((self.x-self.r, self.y+self.sun_tn-self.r), (self.x-self.r, self.y-self.r), self.sun_a),\n",
    "                self.rotate_edge((self.x-self.r, self.y+self.r+self.sun_tn), (self.x-self.r, self.y+self.r), self.sun_a)\n",
    "            ],\n",
    "            color=self.shadow_color, fill=True, alpha=0.1\n",
    "        )\n",
    "        return p1, p2, p3, p4"
   ]
  },
  {
   "cell_type": "code",
   "execution_count": 19,
   "id": "e4f4b7ba",
   "metadata": {},
   "outputs": [],
   "source": [
    "class Wedge(Rectangle):\n",
    "# A primitive artist, a half circle\n",
    "\n",
    "    def __init__(self, r, t1=0, t2=180, color=\"k\", ls=\"-\", lw=0.1, fill=False):\n",
    "        self.x = 0\n",
    "        self.y = 0\n",
    "        self.r = r\n",
    "        self.t1 = t1\n",
    "        self.t2 = t2\n",
    "        self.color = color\n",
    "        self.ls = ls\n",
    "        self.lw = lw\n",
    "        self.fill = fill        \n",
    "\n",
    "    def initialize_geometry(self):\n",
    "        p = mpl_patches.Wedge(\n",
    "            (self.x, self.y), self.r, self.t1, self.t2,\n",
    "            color=self.color, ls=self.ls, fill=self.fill, lw=self.lw\n",
    "        )\n",
    "        return p"
   ]
  },
  {
   "cell_type": "code",
   "execution_count": 20,
   "id": "a77b2f0d",
   "metadata": {},
   "outputs": [],
   "source": [
    "class Polygon(Rectangle):\n",
    "# A primitive artist, a custom polygon\n",
    "\n",
    "    def __init__(\n",
    "        self, point_aray, color=\"k\", ls=\"-\", lw=0.1,\n",
    "        fill=False, alpha=1, z=2, sun_h=None, sun_a=None, sun_r=None,\n",
    "        shadow_color=\"#D3D3D3\", shadow_only=False\n",
    "    ):\n",
    "        self.points_original = point_aray\n",
    "        self.points = point_aray\n",
    "        self.z = z\n",
    "        self.color = color\n",
    "        self.ls = ls\n",
    "        self.lw = lw\n",
    "        self.fill = fill\n",
    "        self.alpha = alpha\n",
    "        self.shadow_color = shadow_color\n",
    "        self.shadow_only = shadow_only\n",
    "        if sun_h is None:\n",
    "            if 'SUN_ALT' in globals():\n",
    "                self.sun_h = SUN_ALT\n",
    "            else:\n",
    "                self.sun_h = 20\n",
    "        else:\n",
    "            self.sun_h = sun_h\n",
    "        self.sun_tn = self.z/math.tan(math.radians(SUN_ALT))\n",
    "        if sun_r is None:\n",
    "            if 'SUN_ROT' in globals():\n",
    "                self.sun_r = SUN_ROT\n",
    "            else:\n",
    "                self.sun_r = 20\n",
    "        else:\n",
    "            self.sun_r = sun_r\n",
    "        if sun_a is None:\n",
    "            if 'SUN_AZY' in globals():\n",
    "                self.sun_a = SUN_AZY + self.sun_r\n",
    "            else:\n",
    "                self.sun_a = 20\n",
    "        else:\n",
    "            self.sun_a = sun_a \n",
    "    \n",
    "    def update_positions(self, x, y):\n",
    "        self.points =  [(dx+x, dy+y) for dx, dy in self.points_original]  \n",
    "\n",
    "    def initialize_geometry(self):\n",
    "        p = mpl_patches.Polygon(\n",
    "            self.points, color=self.color, ls=self.ls, lw=self.lw,\n",
    "            fill=self.fill, alpha = self.alpha\n",
    "        )\n",
    "        return p\n",
    "    \n",
    "    def initialize_shadow(self):\n",
    "        pl = []\n",
    "        for i, (xp1, yp1) in enumerate(self.points):\n",
    "            xp2, yp2 = self.points[i-1]\n",
    "            p = mpl_patches.Polygon(\n",
    "                [\n",
    "                    (xp1, yp1), (xp2, yp2),\n",
    "                    self.rotate_edge((xp2, yp2+self.sun_tn), (xp2, yp2), self.sun_a),\n",
    "                    self.rotate_edge((xp1, yp1+self.sun_tn), (xp1, yp1), self.sun_a)\n",
    "                ],\n",
    "                color=self.shadow_color, fill=True, alpha=0.1\n",
    "            )\n",
    "            pl.append(p)\n",
    "        return pl"
   ]
  },
  {
   "cell_type": "code",
   "execution_count": 21,
   "id": "66488416",
   "metadata": {},
   "outputs": [],
   "source": [
    "class CustomPlatform(Polygon):\n",
    "# A composite object built up of multiple primitves\n",
    "\n",
    "    def __init__(self, color=\"k\", ls=\"-\", lw=0.1, fill=False, szines=False):\n",
    "        self.color = color\n",
    "        self.ls = ls\n",
    "        self.lw = lw\n",
    "        self.fill = fill\n",
    "        self.points_original = [\n",
    "            (0.2, 0.2),\n",
    "            (2.9, 0.2),\n",
    "            (0, 0),\n",
    "            (0, 5),\n",
    "            (6, 5),\n",
    "            (6, 0),\n",
    "            (2.7, 0),\n",
    "            (2.7, 1.2),\n",
    "            (1.2, 1.2),\n",
    "            (1.2, 0),\n",
    "            (1.2, 0.3),\n",
    "            (2.7, 0.3),\n",
    "            (2.7, 0.6),\n",
    "            (1.2, 0.6),\n",
    "            (1.2, 0.9),\n",
    "            (2.7, 0.9),\n",
    "            (2.7, 0)\n",
    "        ]\n",
    "        self.points = self.points_original\n",
    "        if szines:\n",
    "            self.grasscolor = \"#8FBC8F\"\n",
    "        else:\n",
    "            self.grasscolor = self.color\n",
    "        if szines:\n",
    "            self.grassfill = True\n",
    "        else:\n",
    "            self.grassfill = self.fill\n",
    "    \n",
    "    def update_positions(self, x, y):\n",
    "        self.points =  [(dx+x, dy+y) for dx, dy in self.points_original]  \n",
    "\n",
    "    def initialize_geometry(self):\n",
    "        p = mpl_patches.Polygon(\n",
    "            self.points[2:],\n",
    "            color=self.color, ls=self.ls, fill=self.fill, lw=self.lw\n",
    "        )\n",
    "        s1 = mpl_patches.Rectangle(\n",
    "            self.points[0], 0.8, 0.8,\n",
    "            color=self.grasscolor, ls=self.ls, fill=self.grassfill, lw=self.lw\n",
    "        )\n",
    "        s2 = mpl_patches.Rectangle(\n",
    "            self.points[1], 0.8, 0.8,\n",
    "            color=self.grasscolor, ls=self.ls, fill=self.grassfill, lw=self.lw\n",
    "        )\n",
    "        return p, s1, s2\n",
    "\n",
    "    def draw(self, ax):\n",
    "        for p in self.initialize_geometry():\n",
    "            ax.add_patch(p)\n",
    "        return ax"
   ]
  },
  {
   "cell_type": "markdown",
   "id": "023ea408",
   "metadata": {},
   "source": [
    "## Dimensions and locations"
   ]
  },
  {
   "cell_type": "code",
   "execution_count": 22,
   "id": "81d5cafb",
   "metadata": {},
   "outputs": [],
   "source": [
    "object_collection = dict(\n",
    "    telek = Polygon([(0, 0), (14, 4), (14, 39), (0, 39)]),\n",
    "    haz = Rectangle(6, 12),\n",
    "    tornac = Rectangle(1, 7),\n",
    "    lepcso = Polygon([(0, 0), (1, 0), (1, 2.8), (0, 2.8), (0, 2.5), (1, 2.5), (1, 2.2), (0, 2.2), (0, 1.9), (1, 1.9), (1, 0.9), (0, 0.9), (0, 0.6), (1, 0.6), (1, 0.3), (0, 0.3)]),\n",
    "    terasz = CustomPlatform(),\n",
    "    tarolo = Rectangle(2, 1.5),\n",
    "    # pavilon = Rectangle(4, 5),\n",
    "    pavilon = Polygon([(0, 1.5), (0, 4), (4, 4), (4, 0), (1.5, 0)]),\n",
    "    pavilon2 = Polygon([(0, 0), (4, 0), (4, 1.5), (1.5, 1.5)], ls=\":\"),\n",
    "    kocsi_elol = Rectangle(4, 5),\n",
    "    kocsi_hatul = Polygon([(0, 0), (0, 5), (4, 5), (4, 1)]),\n",
    "    platform1 = Rectangle(2, 2, color=\"red\"),\n",
    "    platform2 = Rectangle(2, 2, color=\"red\"),\n",
    "    magasagyas1 = Rectangle(1, 1),\n",
    "    magasagyas2 = Rectangle(1, 1),\n",
    "    magasagyas3 = Rectangle(1, 1),\n",
    "    magasagyas4 = Rectangle(0.5, 2),\n",
    "    diszagyas = Wedge(2, 90, -90),\n",
    "    kisdisz = Circle(1),\n",
    "    fenyo = Circle(1),\n",
    "    mandula = Circle(1),\n",
    "    gyumolcs1 = Circle(1),\n",
    "    gyumolcs2 = Circle(1),\n",
    "    gyumolcs3 = Circle(1),\n",
    "    gyep = Ellipse(16, 8, angle=60),\n",
    "    jatekos = Rectangle(1.5, 3, angle=60)\n",
    ")"
   ]
  },
  {
   "cell_type": "code",
   "execution_count": 23,
   "id": "d6f95733",
   "metadata": {},
   "outputs": [],
   "source": [
    "object_locations = dict(\n",
    "    telek = (0, 0),\n",
    "    haz = (1, 24),\n",
    "    tornac = (6, 29),\n",
    "    lepcso = (7, 31),\n",
    "    terasz = (1, 19),\n",
    "    tarolo = (12, 34.5),\n",
    "    pavilon = (10, 24),\n",
    "    pavilon2 = (10, 28),\n",
    "    kocsi_elol = (8, 34),\n",
    "    kocsi_hatul = (10, 3),\n",
    "    platform1 = (11, 10),\n",
    "    platform2 = (11, 13),\n",
    "    magasagyas1 = (13, 10),\n",
    "    magasagyas2 = (13, 12),\n",
    "    magasagyas3 = (13, 14),\n",
    "    magasagyas4 = (0.5, 16),\n",
    "    diszagyas = (14, 32.5),\n",
    "    kisdisz = (12.5, 32.5),\n",
    "    fenyo = (4, 37.5),\n",
    "    mandula = (6, 12),\n",
    "    gyep = (7, 12),\n",
    "    jatekos = (3, 3),\n",
    "    gyumolcs1 = (1.4, 2.1),\n",
    "    gyumolcs2 = (4.4, 3.1),\n",
    "    gyumolcs3 = (7.4, 4.1)\n",
    ")"
   ]
  },
  {
   "cell_type": "markdown",
   "id": "9e19b00e",
   "metadata": {},
   "source": [
    "## Draw plan"
   ]
  },
  {
   "cell_type": "code",
   "execution_count": 24,
   "id": "02210e19",
   "metadata": {},
   "outputs": [
    {
     "data": {
      "image/png": "[encoded data removed]",
      "text/plain": [
       "<Figure size 144x432 with 1 Axes>"
      ]
     },
     "metadata": {
      "needs_background": "light"
     },
     "output_type": "display_data"
    }
   ],
   "source": [
    "for k, v in object_locations.items():\n",
    "    object_collection[k].update_positions(*v)\n",
    "\n",
    "fig, ax = plt.subplots(figsize=(2, 6))\n",
    "\n",
    "ax.set_aspect(\"equal\", adjustable=\"datalim\")\n",
    "ax.axis('off')\n",
    "ax.plot([0, 12],[-0.5, -0.5], color=\"white\")\n",
    "\n",
    "for k, v in object_collection.items():\n",
    "    v.draw(ax)\n",
    "\n",
    "fig.savefig(\"tervek/terv_fekete_feher.pdf\")"
   ]
  },
  {
   "cell_type": "code",
   "execution_count": 40,
   "id": "d779f84c-e46a-4eb0-9475-7b8dd044f0aa",
   "metadata": {},
   "outputs": [
    {
     "data": {
      "image/png": "[encoded data removed]",
      "text/plain": [
       "<Figure size 144x432 with 1 Axes>"
      ]
     },
     "metadata": {
      "needs_background": "light"
     },
     "output_type": "display_data"
    }
   ],
   "source": [
    "Vcolors = cm.gray(np.linspace(0, 1, 5))\n",
    "\n",
    "object_collection = dict(\n",
    "    telek = Polygon([(0, 0), (14, 4), (14, 39), (0, 39)]),\n",
    "    haz = Rectangle(6, 12),\n",
    "    tornac = Rectangle(1, 7),\n",
    "    lepcso = Polygon([(0, 0), (1, 0), (1, 2.8), (0, 2.8), (0, 2.5), (1, 2.5), (1, 2.2), (0, 2.2), (0, 1.9), (1, 1.9), (1, 0.9), (0, 0.9), (0, 0.6), (1, 0.6), (1, 0.3), (0, 0.3)]),\n",
    "    terasz = CustomPlatform(),\n",
    "    kocsi_elol = Rectangle(4, 5),\n",
    "    kocsi_hatul = Polygon([(0, 0), (0, 5), (4, 5), (4, 1)]),\n",
    "    platform1 = Rectangle(2, 2, color=\"red\"),\n",
    "    platform2 = Rectangle(2, 2, color=\"red\"),\n",
    "    szint1 = Polygon([(0, 0), (14, 4), (14, 39), (0, 39)], color=\"grey\", alpha=0.1, fill=True),\n",
    "    szint2 = Polygon([(0, 0), (10, 3), (10, 9), (13, 9), (13, 17), (14, 17), (14, 39), (0, 39)], color=\"grey\", alpha=0.1, fill=True),\n",
    "    szint3 = Polygon([(0, 0), (9, 2), (9, 21), (14, 21), (14, 39), (0, 39)], color=\"grey\", alpha=0.1, fill=True),\n",
    "    szint4 = Polygon([(0, 0), (4, 1), (2, 5), (2, 17), (8, 17), (8, 23), (14, 23), (14, 39), (0, 39)], color=\"grey\", alpha=0.1, fill=True),\n",
    "    szint5 = Polygon([(0, 0), (14, 0), (14, 14), (0, 14)], color=\"grey\", alpha=0.1, fill=True),\n",
    "    ut1 =  Rectangle(1, 12, color=\"#b0c4de\", fill=True),\n",
    "    ut2 =  Rectangle(12, 1, color=\"#b0c4de\", fill=True),\n",
    "    ut3 =  Rectangle(1, 3, color=\"#b0c4de\", fill=True),\n",
    ")\n",
    "\n",
    "object_locations = dict(\n",
    "    telek = (0, 0),\n",
    "    haz = (1, 24),\n",
    "    tornac = (6, 29),\n",
    "    lepcso = (7, 31),\n",
    "    terasz = (1, 19),\n",
    "    kocsi_elol = (8, 34),\n",
    "    kocsi_hatul = (10, 3),\n",
    "    platform1 = (11, 10),\n",
    "    platform2 = (11, 13),\n",
    "    szint1 =(0, 0),\n",
    "    szint2 =(0, 0),\n",
    "    szint3 =(0, 0),\n",
    "    szint4 =(0, 0),\n",
    "    szint5 =(0, 25)\n",
    ")\n",
    "\n",
    "for k, v in object_locations.items():\n",
    "    object_collection[k].update_positions(*v)\n",
    "\n",
    "fig, ax = plt.subplots(figsize=(2, 6))\n",
    "\n",
    "ax.set_aspect(\"equal\", adjustable=\"datalim\")\n",
    "ax.axis('off')\n",
    "ax.plot([0, 12],[-0.5, -0.5], color=\"white\")\n",
    "\n",
    "for k, v in object_collection.items():\n",
    "    v.draw(ax)\n",
    "\n",
    "fig.savefig(\"tervek/szintezett_terv.pdf\")"
   ]
  },
  {
   "cell_type": "code",
   "execution_count": 45,
   "id": "7877a34e-6317-4af3-93aa-a308bcea526b",
   "metadata": {},
   "outputs": [
    {
     "data": {
      "image/png": "[encoded data removed]",
      "text/plain": [
       "<Figure size 144x432 with 1 Axes>"
      ]
     },
     "metadata": {
      "needs_background": "light"
     },
     "output_type": "display_data"
    }
   ],
   "source": [
    "Vcolors = cm.gray(np.linspace(0, 1, 5))\n",
    "\n",
    "object_collection = dict(\n",
    "    telek = Polygon([(0, 0), (14, 4), (14, 39), (0, 39)]),\n",
    "    haz = Rectangle(6, 12),\n",
    "    tornac = Rectangle(1, 7),\n",
    "    lepcso = Polygon([(0, 0), (1, 0), (1, 2.8), (0, 2.8), (0, 2.5), (1, 2.5), (1, 2.2), (0, 2.2), (0, 1.9), (1, 1.9), (1, 0.9), (0, 0.9), (0, 0.6), (1, 0.6), (1, 0.3), (0, 0.3)]),\n",
    "    terasz = CustomPlatform(),\n",
    "    kocsi_elol = Rectangle(4, 5),\n",
    "    kocsi_hatul = Polygon([(0, 0), (0, 5), (4, 5), (4, 1)]),\n",
    "    platform1 = Rectangle(2, 2, color=\"red\"),\n",
    "    platform2 = Rectangle(2, 2, color=\"red\"),\n",
    "    szint1 = Polygon([(0, 0), (14, 4), (14, 39), (0, 39)], color=\"grey\", alpha=0.1, fill=True),\n",
    "    #szint2 = Polygon([(0, 0), (10, 3), (10, 9), (13, 9), (13, 17), (14, 17), (14, 39), (0, 39)], color=\"grey\", alpha=0.1, fill=True),\n",
    "    szint3 = Polygon([(0, 0), (9, 2), (9, 14), (14, 14), (14, 39), (0, 39)], color=\"grey\", alpha=0.1, fill=True),\n",
    "    szint4 = Polygon([(0, 0), (4, 1), (2, 5), (2, 17), (8, 17), (8, 23), (14, 23), (14, 39), (0, 39)], color=\"grey\", alpha=0.1, fill=True),\n",
    "    szint5 = Polygon([(0, 0), (14, 0), (14, 11), (0, 11)], color=\"grey\", alpha=0.1, fill=True),\n",
    "    ut1 =  Rectangle(1, 12, color=\"#b0c4de\", fill=True),\n",
    "    ut2 =  Rectangle(10, 1, color=\"#b0c4de\", fill=True),\n",
    "    ut3 =  Rectangle(1, 3, color=\"#b0c4de\", fill=True),\n",
    "    ut4 =  Rectangle(1, 12, color=\"#b0c4de\", fill=True)\n",
    ")\n",
    "\n",
    "object_locations = dict(\n",
    "    telek = (0, 0),\n",
    "    haz = (1, 24),\n",
    "    tornac = (6, 29),\n",
    "    lepcso = (7, 31),\n",
    "    terasz = (1, 19),\n",
    "    kocsi_elol = (8, 34),\n",
    "    kocsi_hatul = (10, 3),\n",
    "    platform1 = (11, 10),\n",
    "    platform2 = (11, 13),\n",
    "    szint1 =(0, 0),\n",
    "    #szint2 =(0, 0),\n",
    "    szint3 =(0, 0),\n",
    "    szint4 =(0, 0),\n",
    "    szint5 =(0, 28),\n",
    "    ut1 =(8, 16),\n",
    "    ut2 =(2, 16),\n",
    "    ut3 =(2, 14),\n",
    "    ut4 =(10, 4)\n",
    ")\n",
    "\n",
    "for k, v in object_locations.items():\n",
    "    object_collection[k].update_positions(*v)\n",
    "\n",
    "fig, ax = plt.subplots(figsize=(2, 6))\n",
    "\n",
    "ax.set_aspect(\"equal\", adjustable=\"datalim\")\n",
    "ax.axis('off')\n",
    "ax.plot([0, 12],[-0.5, -0.5], color=\"white\")\n",
    "\n",
    "for k, v in object_collection.items():\n",
    "    v.draw(ax)\n",
    "\n",
    "fig.savefig(\"tervek/szintezett_terv2.pdf\")"
   ]
  },
  {
   "cell_type": "markdown",
   "id": "e63baea3",
   "metadata": {},
   "source": [
    "## Draw shadows"
   ]
  },
  {
   "cell_type": "code",
   "execution_count": 22,
   "id": "21f89c0a",
   "metadata": {},
   "outputs": [],
   "source": [
    "shadow_collection = dict(\n",
    "    haz_reggel = Polygon([(0, 6), (3, 0), (3, 10), (0, 12)], color=\"red\", alpha=0.1, fill=True),\n",
    "    haz_du = Polygon([(0, 0), (6, -3), (6, 9), (0, 12)], color=\"blue\", alpha=0.1, fill=True),\n",
    "    kerites_reggel = Polygon([(0, 0), (0, 1.5), (12, 5.5), (12, 29), (14, 27), (14, 4)], color=\"red\", alpha=0.1, fill=True),\n",
    "    kerites_du = Polygon([(0, 0), (2, 0.5), (2, 39), (0, 39)], color=\"blue\", alpha=0.1, fill=True),\n",
    "    mandula_reggel = Polygon([(0, 0), (0.5, 0), (-3, 5), (-5, 4)], color=\"red\", alpha=0.1, fill=True),\n",
    "    mandula_du = Polygon([(0, 0), (0.5, 0), (3, -6), (5, -6)], color=\"blue\", alpha=0.1, fill=True)\n",
    ")\n",
    "\n",
    "shadow_locations = dict(\n",
    "    haz_reggel = (11, 24),\n",
    "    haz_du = (7, 24),\n",
    "    kerites_reggel = (0, 0),\n",
    "    kerites_du = (0, 0),\n",
    "    mandula_reggel = (6, 12),\n",
    "    mandula_du = (6, 12)\n",
    ")"
   ]
  },
  {
   "cell_type": "code",
   "execution_count": 23,
   "id": "98638092",
   "metadata": {},
   "outputs": [
    {
     "data": {
      "image/png": "[encoded data removed]",
      "text/plain": [
       "<Figure size 144x432 with 1 Axes>"
      ]
     },
     "metadata": {
      "needs_background": "light"
     },
     "output_type": "display_data"
    }
   ],
   "source": [
    "for k, v in object_locations.items():\n",
    "    object_collection[k].update_positions(*v)\n",
    "\n",
    "for k, v in shadow_locations.items():\n",
    "    shadow_collection[k].update_positions(*v)\n",
    "\n",
    "fig, ax = plt.subplots(figsize=(2, 6))\n",
    "\n",
    "ax.set_aspect(\"equal\", adjustable=\"datalim\")\n",
    "ax.axis('off')\n",
    "ax.plot([0, 12],[-0.5, -0.5], color=\"white\")\n",
    "\n",
    "for k, v in object_collection.items():\n",
    "    v.draw(ax)\n",
    "\n",
    "for k, v in shadow_collection.items():\n",
    "    v.draw(ax)\n",
    "    \n",
    "fig.savefig(\"tervek/arnyekok.pdf\")"
   ]
  },
  {
   "cell_type": "code",
   "execution_count": 124,
   "id": "70c42aca-7260-4386-b7d8-09f09cd9a165",
   "metadata": {},
   "outputs": [
    {
     "data": {
      "image/png": "[encoded data removed]",
      "text/plain": [
       "<Figure size 144x432 with 1 Axes>"
      ]
     },
     "metadata": {
      "needs_background": "light"
     },
     "output_type": "display_data"
    }
   ],
   "source": [
    "shadow_collection = dict(\n",
    "    telek = Polygon([(0, 0), (14, 4), (14, 39), (0, 39)]),\n",
    "    haz = Rectangle(6, 12),\n",
    "    mandula = Circle(1)\n",
    "    \n",
    ")\n",
    "\n",
    "shadow_locations = dict(\n",
    "    haz = (1, 24),\n",
    "    telek = (0, 0),\n",
    "    mandula = (6, 12)\n",
    ")\n",
    "\n",
    "for k, v in shadow_locations.items():\n",
    "    shadow_collection[k].update_positions(*v)\n",
    "\n",
    "fig, ax = plt.subplots(figsize=(2, 6))\n",
    "\n",
    "ax.set_aspect(\"equal\", adjustable=\"datalim\")\n",
    "ax.axis('off')\n",
    "ax.plot([0, 12],[-0.5, -0.5], color=\"white\")\n",
    "\n",
    "for k, v in shadow_collection.items():\n",
    "    v.draw_shadowed(ax)"
   ]
  },
  {
   "cell_type": "code",
   "execution_count": 161,
   "id": "3ebfec0c-91c6-4bbe-9f7e-acb0c04713cc",
   "metadata": {},
   "outputs": [
    {
     "data": {
      "image/png": "[encoded data removed]",
      "text/plain": [
       "<Figure size 144x432 with 1 Axes>"
      ]
     },
     "metadata": {
      "needs_background": "light"
     },
     "output_type": "display_data"
    }
   ],
   "source": [
    "fig, ax = plt.subplots(figsize=(2, 6))\n",
    "\n",
    "ax.set_aspect(\"equal\", adjustable=\"datalim\")\n",
    "ax.axis('off')\n",
    "ax.plot([0, 12],[-0.5, -0.5], color=\"white\")\n",
    "\n",
    "site_orientation = -70\n",
    "\n",
    "hours_checked = range(5, 20)\n",
    "Ncolors = len(hours_checked)\n",
    "Vcolors = cm.RdBu(np.linspace(0, 1, Ncolors))\n",
    "\n",
    "for i, tt in enumerate(hours_checked):\n",
    "    a = solar.get_altitude(site_location[0], site_location[1], datetime.datetime(2022, 1, 1, tt, 0, tzinfo=datetime.timezone.utc))\n",
    "    az = solar.get_azimuth(site_location[0], site_location[1], datetime.datetime(2022, 1, 1, tt, 0, tzinfo=datetime.timezone.utc))+site_orientation\n",
    "    telek = Polygon([(0, 0), (14, 4), (14, 39), (0, 39)], sun_h=a, sun_a=az, shadow_color=Vcolors[i])\n",
    "    telek.draw_shadowed(ax)\n",
    "    haz = Rectangle(6, 12, sun_h=a, sun_a=az, shadow_color=Vcolors[i])\n",
    "    haz.update_positions(x=1, y=24)\n",
    "    haz.draw_shadowed(ax)\n",
    "    fa = Circle(1, sun_h=a, sun_a=az, shadow_color=Vcolors[i])\n",
    "    fa.update_positions(x=6, y=12)\n",
    "    fa.draw_shadowed(ax)\n",
    "\n",
    "fig.savefig(\"tervek/arnyekok_januar.pdf\")"
   ]
  },
  {
   "cell_type": "code",
   "execution_count": 162,
   "id": "96fb7db3-468b-4d9a-a935-12db834f6fdb",
   "metadata": {},
   "outputs": [
    {
     "data": {
      "image/png": "[encoded data removed]",
      "text/plain": [
       "<Figure size 144x432 with 1 Axes>"
      ]
     },
     "metadata": {
      "needs_background": "light"
     },
     "output_type": "display_data"
    }
   ],
   "source": [
    "fig, ax = plt.subplots(figsize=(2, 6))\n",
    "\n",
    "ax.set_aspect(\"equal\", adjustable=\"datalim\")\n",
    "ax.axis('off')\n",
    "ax.plot([0, 12],[-0.5, -0.5], color=\"white\")\n",
    "\n",
    "site_orientation = -70\n",
    "\n",
    "hours_checked = range(5, 20)\n",
    "Ncolors = len(hours_checked)\n",
    "Vcolors = cm.RdBu(np.linspace(0, 1, Ncolors))\n",
    "\n",
    "for i, tt in enumerate(hours_checked):\n",
    "    a = solar.get_altitude(site_location[0], site_location[1], datetime.datetime(2022, 3, 1, tt, 0, tzinfo=datetime.timezone.utc))\n",
    "    az = solar.get_azimuth(site_location[0], site_location[1], datetime.datetime(2022, 3, 1, tt, 0, tzinfo=datetime.timezone.utc))+site_orientation\n",
    "    telek = Polygon([(0, 0), (14, 4), (14, 39), (0, 39)], sun_h=a, sun_a=az, shadow_color=Vcolors[i])\n",
    "    telek.draw_shadowed(ax)\n",
    "    haz = Rectangle(6, 12, sun_h=a, sun_a=az, shadow_color=Vcolors[i])\n",
    "    haz.update_positions(x=1, y=24)\n",
    "    haz.draw_shadowed(ax)\n",
    "    fa = Circle(1, sun_h=a, sun_a=az, shadow_color=Vcolors[i])\n",
    "    fa.update_positions(x=6, y=12)\n",
    "    fa.draw_shadowed(ax)\n",
    "\n",
    "fig.savefig(\"tervek/arnyekok_marcius.pdf\")"
   ]
  },
  {
   "cell_type": "code",
   "execution_count": 164,
   "id": "cf628627-92b8-4c38-b877-e31384ca24ad",
   "metadata": {},
   "outputs": [
    {
     "data": {
      "image/png": "[encoded data removed]",
      "text/plain": [
       "<Figure size 144x432 with 1 Axes>"
      ]
     },
     "metadata": {
      "needs_background": "light"
     },
     "output_type": "display_data"
    }
   ],
   "source": [
    "fig, ax = plt.subplots(figsize=(2, 6))\n",
    "\n",
    "ax.set_aspect(\"equal\", adjustable=\"datalim\")\n",
    "ax.axis('off')\n",
    "ax.plot([0, 12],[-0.5, -0.5], color=\"white\")\n",
    "\n",
    "site_orientation = -70\n",
    "\n",
    "hours_checked = range(5, 20)\n",
    "Ncolors = len(hours_checked)\n",
    "Vcolors = cm.RdBu(np.linspace(0, 1, Ncolors))\n",
    "\n",
    "for i, tt in enumerate(hours_checked):\n",
    "    a = solar.get_altitude(site_location[0], site_location[1], datetime.datetime(2022, 6, 1, tt, 0, tzinfo=datetime.timezone.utc))\n",
    "    az = solar.get_azimuth(site_location[0], site_location[1], datetime.datetime(2022, 6, 1, tt, 0, tzinfo=datetime.timezone.utc))+site_orientation\n",
    "    telek = Polygon([(0, 0), (14, 4), (14, 39), (0, 39)], sun_h=a, sun_a=az, shadow_color=Vcolors[i])\n",
    "    telek.draw_shadowed(ax)\n",
    "    haz = Rectangle(6, 12, sun_h=a, sun_a=az, shadow_color=Vcolors[i])\n",
    "    haz.update_positions(x=1, y=24)\n",
    "    haz.draw_shadowed(ax)\n",
    "    fa = Circle(1, sun_h=a, sun_a=az, shadow_color=Vcolors[i])\n",
    "    fa.update_positions(x=6, y=12)\n",
    "    fa.draw_shadowed(ax)\n",
    "\n",
    "fig.savefig(\"tervek/arnyekok_junius.pdf\")"
   ]
  },
  {
   "cell_type": "code",
   "execution_count": 166,
   "id": "23613d59-55f2-4313-aad6-3f76015006ea",
   "metadata": {},
   "outputs": [
    {
     "data": {
      "image/png": "[encoded data removed]",
      "text/plain": [
       "<Figure size 144x432 with 1 Axes>"
      ]
     },
     "metadata": {
      "needs_background": "light"
     },
     "output_type": "display_data"
    }
   ],
   "source": [
    "fig, ax = plt.subplots(figsize=(2, 6))\n",
    "\n",
    "ax.set_aspect(\"equal\", adjustable=\"datalim\")\n",
    "ax.axis('off')\n",
    "ax.plot([0, 12],[-0.5, -0.5], color=\"white\")\n",
    "\n",
    "site_orientation = -70\n",
    "\n",
    "hours_checked = range(5, 20)\n",
    "Ncolors = len(hours_checked)\n",
    "Vcolors = cm.RdBu(np.linspace(0, 1, Ncolors))\n",
    "\n",
    "for i, tt in enumerate(hours_checked):\n",
    "    a = solar.get_altitude(site_location[0], site_location[1], datetime.datetime(2022, 9, 1, tt, 0, tzinfo=datetime.timezone.utc))\n",
    "    az = solar.get_azimuth(site_location[0], site_location[1], datetime.datetime(2022, 9, 1, tt, 0, tzinfo=datetime.timezone.utc))+site_orientation\n",
    "    telek = Polygon([(0, 0), (14, 4), (14, 39), (0, 39)], sun_h=a, sun_a=az, shadow_color=Vcolors[i])\n",
    "    telek.draw_shadowed(ax)\n",
    "    haz = Rectangle(6, 12, sun_h=a, sun_a=az, shadow_color=Vcolors[i])\n",
    "    haz.update_positions(x=1, y=24)\n",
    "    haz.draw_shadowed(ax)\n",
    "    fa = Circle(1, sun_h=a, sun_a=az, shadow_color=Vcolors[i])\n",
    "    fa.update_positions(x=6, y=12)\n",
    "    fa.draw_shadowed(ax)\n",
    "\n",
    "fig.savefig(\"tervek/arnyekok_szeptember.pdf\")"
   ]
  },
  {
   "cell_type": "markdown",
   "id": "13458153",
   "metadata": {},
   "source": [
    "## Alernative plan"
   ]
  },
  {
   "cell_type": "code",
   "execution_count": 171,
   "id": "2f6b7189",
   "metadata": {},
   "outputs": [
    {
     "data": {
      "image/png": "[encoded data removed]",
      "text/plain": [
       "<Figure size 144x432 with 1 Axes>"
      ]
     },
     "metadata": {
      "needs_background": "light"
     },
     "output_type": "display_data"
    }
   ],
   "source": [
    "object_locations = dict(\n",
    "    magasagyas1 = (1.4, 2.1),\n",
    "    magasagyas2 = (4.4, 3.1),\n",
    "    magasagyas3 = (7.4, 4.1),\n",
    "    magasagyas4 = (0.5, 4),\n",
    "    jatekos = (2.5, 14),\n",
    "    gyumolcs1 = (13, 12),\n",
    "    gyumolcs2 = (13, 16),\n",
    "    gyumolcs3 = (13, 20)\n",
    ")\n",
    "\n",
    "for k, v in object_locations.items():\n",
    "    object_collection[k].update_positions(*v)\n",
    "\n",
    "fig, ax = plt.subplots(figsize=(2, 6))\n",
    "\n",
    "ax.set_aspect(\"equal\", adjustable=\"datalim\")\n",
    "ax.axis('off')\n",
    "ax.plot([0, 12],[-0.5, -0.5], color=\"white\")\n",
    "\n",
    "for k, v in object_collection.items():\n",
    "    v.draw(ax)\n",
    "\n",
    "fig.savefig(\"tervek/alternativ_terv.pdf\")"
   ]
  },
  {
   "cell_type": "markdown",
   "id": "f58eb205",
   "metadata": {},
   "source": [
    "## Draw roads"
   ]
  },
  {
   "cell_type": "code",
   "execution_count": 107,
   "id": "0b4d30fe",
   "metadata": {},
   "outputs": [
    {
     "data": {
      "image/png": "[encoded data removed]",
      "text/plain": [
       "<Figure size 144x432 with 1 Axes>"
      ]
     },
     "metadata": {
      "needs_background": "light"
     },
     "output_type": "display_data"
    }
   ],
   "source": [
    "object_collection = dict(\n",
    "    telek = Polygon([(0, 0), (14, 4), (14, 39), (0, 39)]),\n",
    "    haz_elott = Rectangle(7, 12, color=\"blue\", alpha=0.1, fill=True),\n",
    "    haz = Rectangle(6, 12),\n",
    "    tornac = Rectangle(1, 7),\n",
    "    lepcso = Polygon([(0, 0), (1, 0), (1, 2.8), (0, 2.8), (0, 2.5), (1, 2.5), (1, 2.2), (0, 2.2), (0, 1.9), (1, 1.9), (1, 0.9), (0, 0.9), (0, 0.6), (1, 0.6), (1, 0.3), (0, 0.3)]),\n",
    "    terasz = CustomPlatform(szines=True),\n",
    "    tarolo = Rectangle(2, 1.5),\n",
    "    pavilon = Polygon([(0, 1.5), (0, 4), (4, 4), (4, 0), (1.5, 0)]),\n",
    "    pavilon2 = Polygon([(0, 0), (4, 0), (4, 1.5), (1.5, 1.5)], ls=\":\"),\n",
    "    kocsi_elol = Rectangle(5, 3, color=\"blue\", alpha=0.1, fill=True),\n",
    "    kocsi_hatul = Polygon([(0, 0), (0, 5), (5.5, 5), (5.5, 1.3)], color=\"blue\", alpha=0.1, fill=True),\n",
    "    platform1 = Rectangle(2, 2, color=\"red\"),\n",
    "    platform2 = Rectangle(2, 2, color=\"red\"),\n",
    "    mandula = Circle(1),\n",
    "    diszagyas = Wedge(2, 90, -90, color=\"#8FBC8F\", fill=True),\n",
    "    terasz_ut1 = Polygon([(0, 0), (0, 7), (5, 7)], color=\"blue\", alpha=0.1, fill=True),\n",
    "    terasz_ut2 = Polygon([(0, 0), (3, 0), (3, 5), (0, 5)], color=\"blue\", alpha=0.1, fill=True),\n",
    "    gyep_kint = Ellipse(21, 7, angle=55, color=\"blue\", alpha=0.1, fill=True),\n",
    "    gyep_bent = Ellipse(19, 5, angle=55, color=\"#8FBC8F\", alpha=1, fill=True)\n",
    ")\n",
    "\n",
    "object_locations = dict(\n",
    "    telek = (0, 0),\n",
    "    haz = (1, 24),\n",
    "    tornac = (6, 29),\n",
    "    lepcso = (7, 31),\n",
    "    terasz = (1, 19),\n",
    "    tarolo = (12, 34.5),\n",
    "    pavilon = (10, 24),\n",
    "    pavilon2 = (10, 28),\n",
    "    haz_elott = (7, 24),\n",
    "    kocsi_elol = (7, 36),\n",
    "    kocsi_hatul = (8.5, 2),\n",
    "    platform1 = (11, 10),\n",
    "    platform2 = (11, 13),\n",
    "    mandula = (6, 12),\n",
    "    diszagyas = (14, 32.5),\n",
    "    terasz_ut1 = (2, 12),\n",
    "    terasz_ut2 = (7, 19),\n",
    "    gyep_kint = (7, 13),\n",
    "    gyep_bent = (7, 13)\n",
    ")\n",
    "\n",
    "for k, v in object_locations.items():\n",
    "    object_collection[k].update_positions(*v)\n",
    "\n",
    "fig, ax = plt.subplots(figsize=(2, 6))\n",
    "\n",
    "ax.set_aspect(\"equal\", adjustable=\"datalim\")\n",
    "ax.axis('off')\n",
    "ax.plot([0, 12],[-0.5, -0.5], color=\"white\")\n",
    "\n",
    "for k, v in object_collection.items():\n",
    "    v.draw(ax)\n",
    "\n",
    "fig.savefig(\"utak.pdf\")"
   ]
  },
  {
   "cell_type": "code",
   "execution_count": 108,
   "id": "f415b0cf-d13a-4a3e-b4e3-b9fab4d3cd3e",
   "metadata": {},
   "outputs": [
    {
     "data": {
      "image/png": "[encoded data removed]",
      "text/plain": [
       "<Figure size 144x432 with 1 Axes>"
      ]
     },
     "metadata": {
      "needs_background": "light"
     },
     "output_type": "display_data"
    }
   ],
   "source": [
    "object_collection = dict(\n",
    "    telek = Polygon([(0, 0), (14, 4), (14, 39), (0, 39)]),\n",
    "    haz_elott = Rectangle(7, 12, color=\"#b0c4de\", fill=True),\n",
    "    haz = Rectangle(6, 12, color=\"#D3D3D3\", fill=True),\n",
    "    tornac = Rectangle(1, 7, color=\"#D3D3D3\", fill=True),\n",
    "    lepcso = Polygon([(0, 0), (1, 0), (1, 2.8), (0, 2.8), (0, 2.5), (1, 2.5), (1, 2.2), (0, 2.2), (0, 1.9), (1, 1.9), (1, 0.9), (0, 0.9), (0, 0.6), (1, 0.6), (1, 0.3), (0, 0.3)], color=\"#D3D3D3\", fill=True),\n",
    "    terasz = CustomPlatform(szines=True, color=\"#D3D3D3\", fill=True),\n",
    "    tarolo = Rectangle(2, 1.5, color=\"#D3D3D3\", fill=True),\n",
    "    pavilon = Polygon([(0, 1.5), (0, 4), (4, 4), (4, 0), (1.5, 0)], color=\"#D3D3D3\", fill=True),\n",
    "    pavilon2 = Polygon([(0, 0), (4, 0), (4, 1.5), (1.5, 1.5)], ls=\":\", color=\"#D3D3D3\", fill=True),\n",
    "    kocsi_elol = Rectangle(5, 3, color=\"#b0c4de\", fill=True),\n",
    "    kocsi_hatul = Polygon([(0, 0), (0, 7), (5.5, 7), (5.5, 1.3)], color=\"#b0c4de\", fill=True),\n",
    "    diszagyas = Wedge(2, 90, -90, color=\"#8FBC8F\", fill=True),\n",
    "    terasz_ut1 = Polygon([(0, 0), (0, 7), (5, 7)], color=\"#b0c4de\", fill=True),\n",
    "    terasz_ut2 = Polygon([(0, 0), (3, 0), (3, 5), (0, 5)], color=\"#b0c4de\", fill=True),\n",
    "    gyep_kint = Ellipse(21, 7, angle=55, color=\"#b0c4de\", fill=True),\n",
    "    gyep_bent = Ellipse(19, 5, angle=55, color=\"#8FBC8F\", fill=True),\n",
    "    mandula = Circle(1, color=\"#a0522d\", fill=True),\n",
    "    platform1 = Rectangle(2, 2, color=\"red\", alpha=0.3, fill=True),\n",
    "    platform2 = Rectangle(2, 2, color=\"red\", alpha=0.3, fill=True)\n",
    ")\n",
    "\n",
    "object_locations = dict(\n",
    "    telek = (0, 0),\n",
    "    haz = (1, 24),\n",
    "    tornac = (6, 29),\n",
    "    lepcso = (7, 31),\n",
    "    terasz = (1, 19),\n",
    "    tarolo = (12, 34.5),\n",
    "    pavilon = (10, 24),\n",
    "    pavilon2 = (10, 28),\n",
    "    haz_elott = (7, 24),\n",
    "    kocsi_elol = (7, 36),\n",
    "    kocsi_hatul = (8.5, 2),\n",
    "    platform1 = (11, 10),\n",
    "    platform2 = (11, 13),\n",
    "    mandula = (6, 12),\n",
    "    diszagyas = (14, 32.5),\n",
    "    terasz_ut1 = (2, 12),\n",
    "    terasz_ut2 = (7, 19),\n",
    "    gyep_kint = (7, 13),\n",
    "    gyep_bent = (7, 13)\n",
    ")\n",
    "\n",
    "for k, v in object_locations.items():\n",
    "    object_collection[k].update_positions(*v)\n",
    "\n",
    "fig, ax = plt.subplots(figsize=(2, 6))\n",
    "\n",
    "ax.set_aspect(\"equal\", adjustable=\"datalim\")\n",
    "ax.axis('off')\n",
    "ax.plot([0, 12],[-0.5, -0.5], color=\"white\")\n",
    "\n",
    "for k, v in object_collection.items():\n",
    "    v.draw(ax)\n",
    "\n",
    "fig.savefig(\"tervek/utak.pdf\")"
   ]
  },
  {
   "cell_type": "code",
   "execution_count": 183,
   "id": "ce051a37",
   "metadata": {},
   "outputs": [
    {
     "data": {
      "image/png": "[encoded data removed]",
      "text/plain": [
       "<Figure size 144x432 with 1 Axes>"
      ]
     },
     "metadata": {
      "needs_background": "light"
     },
     "output_type": "display_data"
    }
   ],
   "source": [
    "object_collection = dict(\n",
    "    telek = Polygon([(0, 0), (14, 4), (14, 39), (0, 39)]),\n",
    "    haz_elott = Rectangle(7, 12, color=\"#b0c4de\", fill=True),\n",
    "    haz = Rectangle(6, 12, color=\"#D3D3D3\", fill=True),\n",
    "    tornac = Rectangle(1, 7, color=\"#D3D3D3\", fill=True),\n",
    "    lepcso = Polygon([(0, 0), (1, 0), (1, 2.8), (0, 2.8), (0, 2.5), (1, 2.5), (1, 2.2), (0, 2.2), (0, 1.9), (1, 1.9), (1, 0.9), (0, 0.9), (0, 0.6), (1, 0.6), (1, 0.3), (0, 0.3)], color=\"#D3D3D3\", fill=True),\n",
    "    terasz = CustomPlatform(szines=True, color=\"#D3D3D3\", fill=True),\n",
    "    tarolo = Rectangle(2, 1.5, color=\"#D3D3D3\", fill=True),\n",
    "    pavilon = Polygon([(0, 1.5), (0, 4), (4, 4), (4, 0), (1.5, 0)], color=\"#D3D3D3\", fill=True),\n",
    "    pavilon2 = Polygon([(0, 0), (4, 0), (4, 1.5), (1.5, 1.5)], ls=\":\", color=\"#D3D3D3\", fill=True),\n",
    "    kocsi_elol = Rectangle(5, 3, color=\"#b0c4de\", fill=True),\n",
    "    kocsi_hatul = Polygon([(0, 0), (0, 6), (5, 6), (5, 1.2)], color=\"#b0c4de\", fill=True),\n",
    "    diszagyas = Wedge(2, 90, -90, color=\"#8FBC8F\", fill=True),\n",
    "    gyep_jobb = Rectangle(5, 14, color=\"#8FBC8F\", fill=True),\n",
    "    gyep_bal = Polygon([(0, 0), (8, 2), (8, 15), (0, 15)], color=\"#8FBC8F\", fill=True),\n",
    "    mandula = Circle(1, color=\"#a0522d\", fill=True),\n",
    "    platform1 = Rectangle(2, 2, color=\"red\", alpha=0.3, fill=True),\n",
    "    platform2 = Rectangle(2, 2, color=\"red\", alpha=0.3, fill=True)\n",
    ")\n",
    "\n",
    "object_locations = dict(\n",
    "    telek = (0, 0),\n",
    "    haz = (1, 24),\n",
    "    tornac = (6, 29),\n",
    "    lepcso = (7, 31),\n",
    "    terasz = (1, 19),\n",
    "    tarolo = (12, 34.5),\n",
    "    pavilon = (10, 24),\n",
    "    pavilon2 = (10, 28),\n",
    "    haz_elott = (7, 24),\n",
    "    kocsi_elol = (7, 36),\n",
    "    kocsi_hatul = (9, 3),\n",
    "    platform1 = (11, 10),\n",
    "    platform2 = (11, 13),\n",
    "    mandula = (6, 12),\n",
    "    diszagyas = (14, 32.5),\n",
    "    gyep_jobb = (8, 9),\n",
    "    gyep_bal = (0, 2)\n",
    ")\n",
    "\n",
    "for k, v in object_locations.items():\n",
    "    object_collection[k].update_positions(*v)\n",
    "\n",
    "fig, ax = plt.subplots(figsize=(2, 6))\n",
    "\n",
    "ax.set_aspect(\"equal\", adjustable=\"datalim\")\n",
    "ax.axis('off')\n",
    "ax.plot([0, 12],[-0.5, -0.5], color=\"white\")\n",
    "\n",
    "for k, v in object_collection.items():\n",
    "    v.draw(ax)\n",
    "\n",
    "fig.savefig(\"tervek/szogletes_gyep.pdf\")"
   ]
  },
  {
   "cell_type": "code",
   "execution_count": 25,
   "id": "0ad1a5f5-3793-47ac-b1d5-4c7b3843d2b9",
   "metadata": {},
   "outputs": [
    {
     "data": {
      "image/png": "[encoded data removed]",
      "text/plain": [
       "<Figure size 144x432 with 1 Axes>"
      ]
     },
     "metadata": {
      "needs_background": "light"
     },
     "output_type": "display_data"
    }
   ],
   "source": [
    "object_collection = dict(\n",
    "    telek = Polygon([(0, 0), (14, 4), (14, 39), (0, 39)]),\n",
    "    nagy_gyep = Polygon([(0, 0), (14, 4), (14, 39), (0, 39)], color=\"#8FBC8F\", fill=True),\n",
    "    kanyar1 = Wedge(2, -90, 0, color=\"#b0c4de\", fill=True),\n",
    "    kanyar2 = Wedge(2, 180, -90, color=\"#b0c4de\", fill=True),\n",
    "    kanyar3 = Wedge(2, 90, 180, color=\"#b0c4de\", fill=True),\n",
    "    ut1 =  Rectangle(2, 5, color=\"#b0c4de\", fill=True),\n",
    "    ut2 =  Rectangle(5, 2, color=\"#b0c4de\", fill=True),\n",
    "    ut3 =  Rectangle(2, 4, color=\"#b0c4de\", fill=True),\n",
    "    ut4 =  Rectangle(3, 2, color=\"#b0c4de\", fill=True),\n",
    "    ut5 =  Rectangle(3, 2, color=\"#b0c4de\", fill=True),\n",
    "    ut6 =  Rectangle(2, 12, color=\"#b0c4de\", fill=True),\n",
    "    ut7 =  Rectangle(3, 2, color=\"#b0c4de\", fill=True),\n",
    "    ut8 =  Rectangle(1, 13, color=\"#b0c4de\", fill=True),\n",
    "    kanyar4 = Wedge(2, 90, 180, color=\"#8FBC8F\", fill=True),\n",
    "    kanyar5 = Wedge(2, 90, 180, color=\"#8FBC8F\", fill=True),\n",
    "    gyep6 = Rectangle(3, 2, color=\"#8FBC8F\", fill=True),\n",
    "    haz_elott = Rectangle(7, 12, color=\"#b0c4de\", fill=True),\n",
    "    haz = Rectangle(6, 12, color=\"#D3D3D3\", fill=True),\n",
    "    tornac = Rectangle(1, 7, color=\"#D3D3D3\", fill=True),\n",
    "    lepcso = Polygon([(0, 0), (1, 0), (1, 2.8), (0, 2.8), (0, 2.5), (1, 2.5), (1, 2.2), (0, 2.2), (0, 1.9), (1, 1.9), (1, 0.9), (0, 0.9), (0, 0.6), (1, 0.6), (1, 0.3), (0, 0.3)], color=\"#D3D3D3\", fill=True),\n",
    "    terasz = CustomPlatform(szines=True, color=\"#D3D3D3\", fill=True),\n",
    "    tarolo = Rectangle(2, 1.5, color=\"#D3D3D3\", fill=True),\n",
    "    pavilon = Polygon([(0, 1.5), (0, 4), (4, 4), (4, 0), (1.5, 0)], color=\"#D3D3D3\", fill=True),\n",
    "    pavilon2 = Polygon([(0, 0), (4, 0), (4, 1.5), (1.5, 1.5)], ls=\":\", color=\"#D3D3D3\", fill=True),\n",
    "    kocsi_elol = Rectangle(5, 3, color=\"#b0c4de\", fill=True),\n",
    "    kocsi_hatul = Polygon([(0, 0), (0, 6), (5, 6), (5, 1.2)], color=\"#b0c4de\", fill=True),\n",
    "    jarat_hatul = Polygon([(0, 0), (0, 2), (5, 3.2), (5, 1.2)], color=\"#b0c4de\", fill=True),\n",
    "    diszagyas = Wedge(2, 90, -90, color=\"#8FBC8F\", fill=True),\n",
    "    mandula = Circle(1, color=\"#a0522d\", fill=True),\n",
    "    kanyar6 = Wedge(2, -90, 0, color=\"#8FBC8F\", fill=True),\n",
    "    #platform1 = Rectangle(2, 2, color=\"red\", alpha=0.3, fill=True),\n",
    "    platform2 = Rectangle(2, 2, color=\"red\", alpha=0.3, fill=True)\n",
    ")\n",
    "\n",
    "object_locations = dict(\n",
    "    telek = (0, 0),\n",
    "    kanyar1 = (7, 19),\n",
    "    kanyar2 = (4, 4),\n",
    "    kanyar3 = (11, 9),\n",
    "    ut1 = (7, 19),\n",
    "    ut2 = (2, 17),\n",
    "    ut3 = (9, 20),\n",
    "    ut4 = (11, 22),\n",
    "    ut5 = (2, 15),\n",
    "    ut6 = (2, 4),\n",
    "    ut7 = (10, 9),\n",
    "    ut8 = (13, 9),\n",
    "    kanyar4 = (11, 20),\n",
    "    kanyar5 = (6, 15),\n",
    "    kanyar6 = (6, 7),\n",
    "    gyep6 = (8, 7),\n",
    "    haz = (1, 24),\n",
    "    tornac = (6, 29),\n",
    "    lepcso = (7, 31),\n",
    "    terasz = (1, 19),\n",
    "    tarolo = (12, 34.5),\n",
    "    pavilon = (10, 24),\n",
    "    pavilon2 = (10, 28),\n",
    "    haz_elott = (7, 24),\n",
    "    kocsi_elol = (7, 36),\n",
    "    kocsi_hatul = (9, 3),\n",
    "    jarat_hatul = (4, 2),\n",
    "    #platform1 = (11, 10),\n",
    "    platform2 = (11, 13),\n",
    "    mandula = (6, 12),\n",
    "    diszagyas = (14, 32.5)\n",
    ")\n",
    "\n",
    "for k, v in object_locations.items():\n",
    "    object_collection[k].update_positions(*v)\n",
    "\n",
    "fig, ax = plt.subplots(figsize=(2, 6))\n",
    "\n",
    "ax.set_aspect(\"equal\", adjustable=\"datalim\")\n",
    "ax.axis('off')\n",
    "ax.plot([0, 12],[-0.5, -0.5], color=\"white\")\n",
    "\n",
    "for k, v in object_collection.items():\n",
    "    v.draw(ax)\n",
    "\n",
    "fig.savefig(\"tervek/szabalytalan_gyep.pdf\")"
   ]
  },
  {
   "cell_type": "code",
   "execution_count": 55,
   "id": "7068aad4-3a09-48d7-9f87-7ca7330ed1b3",
   "metadata": {},
   "outputs": [
    {
     "data": {
      "image/png": "[encoded data removed]",
      "text/plain": [
       "<Figure size 144x432 with 1 Axes>"
      ]
     },
     "metadata": {
      "needs_background": "light"
     },
     "output_type": "display_data"
    }
   ],
   "source": [
    "object_collection = dict(\n",
    "    telek = Polygon([(0, 0), (14, 4), (14, 39), (0, 39)]),\n",
    "    nagy_gyep = Polygon([(0, 0), (14, 4), (14, 39), (0, 39)], color=\"#8FBC8F\", fill=True),\n",
    "    kanyar1 = Wedge(2, -60, 0, color=\"#b0c4de\", fill=True),\n",
    "    kanyar2 = Wedge(2, 180, -30, color=\"#b0c4de\", fill=True),\n",
    "    kanyar3 = Wedge(2, 90, 180, color=\"#b0c4de\", fill=True),\n",
    "    ut1 =  Rectangle(2, 5, color=\"#b0c4de\", fill=True),\n",
    "    ut2 =  Rectangle(5, 2, color=\"#b0c4de\", fill=True),\n",
    "    ut3 =  Rectangle(2, 4, color=\"#b0c4de\", fill=True),\n",
    "    ut4 =  Rectangle(3, 2, color=\"#b0c4de\", fill=True),\n",
    "    ut5 =  Rectangle(2, 3, color=\"#b0c4de\", fill=True),\n",
    "    ut6 =  Rectangle(1, 12, color=\"#b0c4de\", fill=True),\n",
    "    ut7 =  Rectangle(3, 2, color=\"#b0c4de\", fill=True),\n",
    "    ut8 =  Rectangle(1, 13, color=\"#b0c4de\", fill=True),\n",
    "    ut9 =  Rectangle(2, 4.5, color=\"#b0c4de\", angle=1200, fill=True),\n",
    "    kanyar4 = Wedge(2, 90, 120, color=\"#8F0000\", fill=True),\n",
    "    kanyar5 = Wedge(2, 120, 180, color=\"#8FBC8F\", fill=True),\n",
    "    gyep6 = Rectangle(3, 2, color=\"#8FBC8F\", fill=True),\n",
    "    haz_elott = Rectangle(7, 12, color=\"#b0c4de\", fill=True),\n",
    "    haz = Rectangle(6, 12, color=\"#D3D3D3\", fill=True),\n",
    "    tornac = Rectangle(1, 7, color=\"#D3D3D3\", fill=True),\n",
    "    lepcso = Polygon([(0, 0), (1, 0), (1, 2.8), (0, 2.8), (0, 2.5), (1, 2.5), (1, 2.2), (0, 2.2), (0, 1.9), (1, 1.9), (1, 0.9), (0, 0.9), (0, 0.6), (1, 0.6), (1, 0.3), (0, 0.3)], color=\"#D3D3D3\", fill=True),\n",
    "    terasz = CustomPlatform(szines=True, color=\"#D3D3D3\", fill=True),\n",
    "    tarolo = Rectangle(2, 1.5, color=\"#D3D3D3\", fill=True),\n",
    "    pavilon = Polygon([(0, 1.5), (0, 4), (4, 4), (4, 0), (1.5, 0)], color=\"#D3D3D3\", fill=True),\n",
    "    pavilon2 = Polygon([(0, 0), (4, 0), (4, 1.5), (1.5, 1.5)], ls=\":\", color=\"#D3D3D3\", fill=True),\n",
    "    kocsi_elol = Rectangle(5, 3, color=\"#b0c4de\", fill=True),\n",
    "    kocsi_hatul = Polygon([(0, 0), (0, 6), (5, 6), (5, 1.2)], color=\"#b0c4de\", fill=True),\n",
    "    jarat_hatul = Polygon([(0, 0), (0, 2), (5, 3.2), (5, 1.2)], color=\"#b0c4de\", fill=True),\n",
    "    diszagyas = Wedge(2, 90, -90, color=\"#8FBC8F\", fill=True),\n",
    "    mandula = Circle(1, color=\"#a0522d\", fill=True),\n",
    "    kanyar6 = Wedge(2, -90, 0, color=\"#8FBC8F\", fill=True),\n",
    "    #platform1 = Rectangle(2, 2, color=\"red\", alpha=0.3, fill=True),\n",
    "    platform2 = Rectangle(2, 2, color=\"red\", alpha=0.3, fill=True)\n",
    ")\n",
    "\n",
    "object_locations = dict(\n",
    "    telek = (0, 0),\n",
    "    kanyar1 = (7, 19),\n",
    "    kanyar2 = (4, 4),\n",
    "    kanyar3 = (11, 9),\n",
    "    ut1 = (7, 19),\n",
    "    ut2 = (2, 17),\n",
    "    ut3 = (9, 20),\n",
    "    ut4 = (11, 22),\n",
    "    ut5 = (2, 14),\n",
    "    ut6 = (2, 4),\n",
    "    ut7 = (10, 9),\n",
    "    ut8 = (13, 9),\n",
    "    ut9 = (8.1, 17),\n",
    "    kanyar4 = (11, 20),\n",
    "    kanyar5 = (5, 13),\n",
    "    kanyar6 = (6, 7),\n",
    "    gyep6 = (8, 7),\n",
    "    haz = (1, 24),\n",
    "    tornac = (6, 29),\n",
    "    lepcso = (7, 31),\n",
    "    terasz = (1, 19),\n",
    "    tarolo = (12, 34.5),\n",
    "    pavilon = (10, 24),\n",
    "    pavilon2 = (10, 28),\n",
    "    haz_elott = (7, 24),\n",
    "    kocsi_elol = (7, 36),\n",
    "    kocsi_hatul = (9, 3),\n",
    "    jarat_hatul = (4, 2),\n",
    "    #platform1 = (11, 10),\n",
    "    platform2 = (11, 13),\n",
    "    mandula = (6, 12),\n",
    "    diszagyas = (14, 32.5)\n",
    ")\n",
    "\n",
    "for k, v in object_locations.items():\n",
    "    object_collection[k].update_positions(*v)\n",
    "\n",
    "fig, ax = plt.subplots(figsize=(2, 6))\n",
    "\n",
    "ax.set_aspect(\"equal\", adjustable=\"datalim\")\n",
    "ax.axis('off')\n",
    "ax.plot([0, 12],[-0.5, -0.5], color=\"white\")\n",
    "\n",
    "for k, v in object_collection.items():\n",
    "    v.draw(ax)\n",
    "\n",
    "#fig.savefig(\"tervek/kisutak_szintek.pdf\")"
   ]
  },
  {
   "cell_type": "code",
   "execution_count": null,
   "id": "a262a16c-6fb5-4e42-a227-1fd817ff3aca",
   "metadata": {},
   "outputs": [],
   "source": []
  },
  {
   "cell_type": "code",
   "execution_count": null,
   "id": "29569736-223d-438a-b693-5c727ee38de3",
   "metadata": {},
   "outputs": [],
   "source": []
  }
 ],
 "metadata": {
  "jupytext": {
   "formats": "md,ipynb"
  },
  "kernelspec": {
   "display_name": "Python 3 (ipykernel)",
   "language": "python",
   "name": "python3"
  },
  "language_info": {
   "codemirror_mode": {
    "name": "ipython",
    "version": 3
   },
   "file_extension": ".py",
   "mimetype": "text/x-python",
   "name": "python",
   "nbconvert_exporter": "python",
   "pygments_lexer": "ipython3",
   "version": "3.8.10"
  }
 },
 "nbformat": 4,
 "nbformat_minor": 5
}
